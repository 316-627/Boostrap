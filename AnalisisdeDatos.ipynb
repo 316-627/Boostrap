{
  "nbformat": 4,
  "nbformat_minor": 0,
  "metadata": {
    "colab": {
      "provenance": [],
      "authorship_tag": "ABX9TyNgC3VpF9vD9QfALRAxWFtu",
      "include_colab_link": true
    },
    "kernelspec": {
      "name": "python3",
      "display_name": "Python 3"
    },
    "language_info": {
      "name": "python"
    }
  },
  "cells": [
    {
      "cell_type": "markdown",
      "metadata": {
        "id": "view-in-github",
        "colab_type": "text"
      },
      "source": [
        "<a href=\"https://colab.research.google.com/github/316-627/Boostrap/blob/main/AnalisisdeDatos.ipynb\" target=\"_parent\"><img src=\"https://colab.research.google.com/assets/colab-badge.svg\" alt=\"Open In Colab\"/></a>"
      ]
    },
    {
      "cell_type": "markdown",
      "source": [
        "1.Descargamos el archivo DatosSeguros.cvs en el siguiente link Link:https://sena.territorio.la/content/index.php/institucion/Complementaria/institution/SENA/Tecnologia/21710112/Contenido/OVA/CF2/index.html#/curso/tema3\n",
        "\n",
        "2.Ingresamos en colab de google creamos un nuevo cuaderno y ya dentro de el ingresamos en el apartado del lado izquierdo archivo y cargamos el archivo descargado anteriormente\n",
        "\n",
        "3.En el codigo escribimos (import pandas as pd) lo que estamos haciendo es llamar a la libreria de panda\n",
        "\n",
        "4.Luego con el siguiente codigo df = pd.read_csv('DatosSeguros.csv') estamos llamando a el archivo que anteriormente fue cargado\n",
        "\n",
        "5.Siguiente con el siguiente codigo df.info() estamos llamando a la informacion que se encuentra dentro del archivo\n",
        "\n",
        "6.Ya podemos visualizar y analizar los datos del archivo"
      ],
      "metadata": {
        "id": "2-6cpFwEZRj5"
      }
    },
    {
      "cell_type": "code",
      "source": [
        "import pandas as pd\n",
        "import seaborn as sns\n",
        "import matplotlib.pyplot as plt\n",
        "df = pd.read_csv('DatosSeguros.csv')"
      ],
      "metadata": {
        "id": "RWLdR_knZgmM"
      },
      "execution_count": null,
      "outputs": []
    },
    {
      "cell_type": "markdown",
      "source": [
        "En el anterior codigo lo que se hace es que se importa la librerias necesarias como la de:\n",
        "\n",
        "1.pandas\n",
        "\n",
        "2.seaborn\n",
        "\n",
        "3.matmatplotlib.pyplot"
      ],
      "metadata": {
        "id": "2z-reDnoZkvd"
      }
    },
    {
      "cell_type": "code",
      "source": [
        "df.isnull().sum()"
      ],
      "metadata": {
        "id": "M2polFHxZowW"
      },
      "execution_count": null,
      "outputs": []
    },
    {
      "cell_type": "markdown",
      "source": [
        "Con el anterior codigo lo que se busca es los valores vacios o nulos que se encuentran en el archivo"
      ],
      "metadata": {
        "id": "Fl59WPOnZuw_"
      }
    },
    {
      "cell_type": "code",
      "source": [
        "df=df.dropna()"
      ],
      "metadata": {
        "id": "44_t9zqhZrjN"
      },
      "execution_count": null,
      "outputs": []
    },
    {
      "cell_type": "markdown",
      "source": [
        "Con el anterior codigo lo que se busca es que los valores nulos se eliminen"
      ],
      "metadata": {
        "id": "5dtWcYxFZyS0"
      }
    },
    {
      "cell_type": "code",
      "source": [
        "df.info()"
      ],
      "metadata": {
        "id": "IjdBZyNBZ2K8"
      },
      "execution_count": null,
      "outputs": []
    },
    {
      "cell_type": "markdown",
      "source": [
        "Con el anterior codigo lo que se busca es visualizar los resultados luego de eliminar los valores nulos"
      ],
      "metadata": {
        "id": "jQKsWsE-Z5dd"
      }
    },
    {
      "cell_type": "code",
      "source": [
        "df=df.drop_duplicates()"
      ],
      "metadata": {
        "id": "yI-hTHLXZ9TM"
      },
      "execution_count": null,
      "outputs": []
    },
    {
      "cell_type": "markdown",
      "source": [
        "Con el anterior codigo lo que se busca es que se eliminen los valores duplicados que se encuentran en el archivo"
      ],
      "metadata": {
        "id": "Cc_ZEojBaAdd"
      }
    },
    {
      "cell_type": "code",
      "source": [
        "rangos = [17, 28, 38, 48, 58, 68]\n",
        "nombrerango = [\"A\", \"B\", \"C\", \"D\", \"E\"]"
      ],
      "metadata": {
        "id": "4bdE2kCVaEXN"
      },
      "execution_count": null,
      "outputs": []
    },
    {
      "cell_type": "markdown",
      "source": [
        "Con el anterior codigo lo que se busca es defenir los rangos de las edades y para eso tambien que se le establecen en los nombre para cada rango"
      ],
      "metadata": {
        "id": "xt55Pj_eaHv3"
      }
    },
    {
      "cell_type": "code",
      "source": [
        "df[\"Rango_Edad\"] = pd.cut(df[\"edad\"], rangos, labels = nombrerango)"
      ],
      "metadata": {
        "id": "lviKXh3faKS1"
      },
      "execution_count": null,
      "outputs": []
    },
    {
      "cell_type": "markdown",
      "source": [
        "Con el anterior codigo lo que se busca es la creancion de una nueva variable"
      ],
      "metadata": {
        "id": "4W-eLfJwaNBs"
      }
    },
    {
      "cell_type": "code",
      "source": [
        "df.hist(bins=20, figsize=(20,10))"
      ],
      "metadata": {
        "id": "MYhNhhAhpQOq"
      },
      "execution_count": null,
      "outputs": []
    },
    {
      "cell_type": "code",
      "source": [
        "sns.histplot(df.edad,color=\"b\", bins=30,kde=True)"
      ],
      "metadata": {
        "id": "uDGMYi1Ppo_K"
      },
      "execution_count": null,
      "outputs": []
    },
    {
      "cell_type": "code",
      "source": [
        "plt.figure(figsize=(10,7))\n",
        "sns.countplot(df.Rango_Edad)"
      ],
      "metadata": {
        "id": "SjrymltApsna"
      },
      "execution_count": null,
      "outputs": []
    },
    {
      "cell_type": "code",
      "source": [
        "total_hijos = df['hijos'].groupby(df['hijos']).count()\n",
        "etiquetas = [0,1,2,3,4,5]\n",
        "colors = sns.color_palette('pastel')[0:6]\n",
        "plt.pie(total_hijos, labels = etiquetas, colors = colors,\n",
        "autopct='%.0f%%')\n",
        "plt.show()"
      ],
      "metadata": {
        "id": "-toy9OcXpu4q"
      },
      "execution_count": null,
      "outputs": []
    },
    {
      "cell_type": "code",
      "source": [
        "total_rango_edad = df['Rango_Edad'].groupby(df['Rango_Edad']).count()\n",
        "labels = [\"A\", \"B\", \"C\", \"D\", \"E\"]\n",
        "colors = sns.color_palette('Set2')[0:5]\n",
        "plt.pie(total_rango_edad, labels = labels, colors =\n",
        "colors, autopct='%.1f%%')\n",
        "plt.show()"
      ],
      "metadata": {
        "id": "-0ZnTeyUpzES"
      },
      "execution_count": null,
      "outputs": []
    },
    {
      "cell_type": "code",
      "source": [
        "Redad_valor = sns.boxplot(x=df[\"Rango_Edad\"],\n",
        "y=df[\"valor_seguro\"])"
      ],
      "metadata": {
        "id": "xpCZZrGhp1iZ"
      },
      "execution_count": null,
      "outputs": []
    },
    {
      "cell_type": "code",
      "source": [
        "fumador_valor = sns.boxplot(x=df[\"fumador\"],\n",
        "y=df[\"valor_seguro\"])"
      ],
      "metadata": {
        "id": "MytYBJnCp4Xz"
      },
      "execution_count": null,
      "outputs": []
    }
  ]
}